{
 "cells": [
  {
   "cell_type": "code",
   "execution_count": 1,
   "id": "41eec887-faf1-449a-aa4b-87e748469607",
   "metadata": {},
   "outputs": [
    {
     "data": {
      "text/html": [
       "<table class=\"dataframe\">\n",
       "<caption>A matrix: 2 × 6 of type dbl</caption>\n",
       "<thead>\n",
       "\t<tr><th></th><th scope=col>used</th><th scope=col>(Mb)</th><th scope=col>gc trigger</th><th scope=col>(Mb)</th><th scope=col>max used</th><th scope=col>(Mb)</th></tr>\n",
       "</thead>\n",
       "<tbody>\n",
       "\t<tr><th scope=row>Ncells</th><td> 632258</td><td>33.8</td><td>1413441</td><td>75.5</td><td>1137648</td><td>60.8</td></tr>\n",
       "\t<tr><th scope=row>Vcells</th><td>1170701</td><td> 9.0</td><td>8388608</td><td>64.0</td><td>1815614</td><td>13.9</td></tr>\n",
       "</tbody>\n",
       "</table>\n"
      ],
      "text/latex": [
       "A matrix: 2 × 6 of type dbl\n",
       "\\begin{tabular}{r|llllll}\n",
       "  & used & (Mb) & gc trigger & (Mb) & max used & (Mb)\\\\\n",
       "\\hline\n",
       "\tNcells &  632258 & 33.8 & 1413441 & 75.5 & 1137648 & 60.8\\\\\n",
       "\tVcells & 1170701 &  9.0 & 8388608 & 64.0 & 1815614 & 13.9\\\\\n",
       "\\end{tabular}\n"
      ],
      "text/markdown": [
       "\n",
       "A matrix: 2 × 6 of type dbl\n",
       "\n",
       "| <!--/--> | used | (Mb) | gc trigger | (Mb) | max used | (Mb) |\n",
       "|---|---|---|---|---|---|---|\n",
       "| Ncells |  632258 | 33.8 | 1413441 | 75.5 | 1137648 | 60.8 |\n",
       "| Vcells | 1170701 |  9.0 | 8388608 | 64.0 | 1815614 | 13.9 |\n",
       "\n"
      ],
      "text/plain": [
       "       used    (Mb) gc trigger (Mb) max used (Mb)\n",
       "Ncells  632258 33.8 1413441    75.5 1137648  60.8\n",
       "Vcells 1170701  9.0 8388608    64.0 1815614  13.9"
      ]
     },
     "metadata": {},
     "output_type": "display_data"
    }
   ],
   "source": [
    "rm(list = ls()) # Borro todos los objetos\n",
    "gc() # Garbage Collection"
   ]
  },
  {
   "cell_type": "code",
   "execution_count": 2,
   "id": "8af43cf4-4275-4f5a-8118-ff42a1b85359",
   "metadata": {},
   "outputs": [
    {
     "name": "stderr",
     "output_type": "stream",
     "text": [
      "Loading required package: data.table\n",
      "\n",
      "Loading required package: rpart\n",
      "\n",
      "Loading required package: parallel\n",
      "\n"
     ]
    }
   ],
   "source": [
    "require(\"data.table\")\n",
    "require(\"rpart\")\n",
    "require(\"parallel\")"
   ]
  },
  {
   "cell_type": "code",
   "execution_count": 3,
   "id": "f7d9eef6-c205-4aa1-b12d-2e3b65da1365",
   "metadata": {},
   "outputs": [],
   "source": [
    "PARAM <- list()\n",
    "# reemplazar por las propias semillas\n",
    "PARAM$semillas <- c(110251, 190283, 340211, 577463, 880249)"
   ]
  },
  {
   "cell_type": "markdown",
   "id": "30bf0586-20c1-4f24-8fae-46120ef2eef7",
   "metadata": {},
   "source": [
    "#------------------------------------------------------------------------------\n",
    "# particionar agrega una columna llamada fold a un dataset\n",
    "#  que consiste en una particion estratificada segun agrupa\n",
    "# particionar( data=dataset, division=c(70,30), agrupa=clase_ternaria, seed=semilla)\n",
    "#   crea una particion 70, 30"
   ]
  },
  {
   "cell_type": "code",
   "execution_count": 4,
   "id": "9d0d9964-a5fa-45d2-a774-4a359a2c2da2",
   "metadata": {},
   "outputs": [],
   "source": [
    "particionar <- function(data, division=c(70,30), agrupa = clase_ternaria, campo = \"fold\", start = 1, seed = semilla) {\n",
    "  if (!is.na(seed)) set.seed(seed)\n",
    "\n",
    "  bloque <- unlist(mapply(function(x, y) {\n",
    "    rep(y, x)\n",
    "  }, division, seq(from = start, length.out = length(division))))\n",
    "\n",
    "  data[, (campo) := sample(rep(bloque, ceiling(.N / length(bloque))))[1:.N],\n",
    "    by = agrupa\n",
    "  ]\n",
    "}"
   ]
  },
  {
   "cell_type": "code",
   "execution_count": 5,
   "id": "640e2211-3a73-42ec-a8eb-c06368025eb8",
   "metadata": {},
   "outputs": [],
   "source": [
    "ArbolEstimarGanancia <- function(semilla, param_basicos) {\n",
    "  # particiono estratificadamente el dataset\n",
    "  particionar(dataset, division = c(7, 3), agrupa = \"clase_ternaria\", seed = semilla)\n",
    "\n",
    "  # genero el modelo\n",
    "  # quiero predecir clase_ternaria a partir del resto\n",
    "  modelo <- rpart(\"clase_ternaria ~ .\",\n",
    "    data = dataset[fold == 1], # fold==1  es training,  el 70% de los datos\n",
    "    xval = 0,\n",
    "    control = param_basicos\n",
    "  ) # aqui van los parametros del arbol\n",
    "\n",
    "  # aplico el modelo a los datos de testing\n",
    "  prediccion <- predict(modelo, # el modelo que genere recien\n",
    "    dataset[fold == 2], # fold==2  es testing, el 30% de los datos\n",
    "    type = \"prob\"\n",
    "  ) # type= \"prob\"  es que devuelva la probabilidad\n",
    "\n",
    "  # prediccion es una matriz con TRES columnas,\n",
    "  #  llamadas \"BAJA+1\", \"BAJA+2\"  y \"CONTINUA\"\n",
    "  # cada columna es el vector de probabilidades\n",
    "\n",
    "\n",
    "  # calculo la ganancia en testing  qu es fold==2\n",
    "  ganancia_test <- dataset[\n",
    "    fold == 2,\n",
    "    sum(ifelse(prediccion[, \"BAJA+2\"] > 0.025,\n",
    "      ifelse(clase_ternaria == \"BAJA+2\", 117000, -3000),\n",
    "      0\n",
    "    ))\n",
    "  ]\n",
    "\n",
    "  # escalo la ganancia como si fuera todo el dataset\n",
    "  ganancia_test_normalizada <- ganancia_test / 0.3\n",
    "\n",
    "  return(ganancia_test_normalizada)\n",
    "}"
   ]
  },
  {
   "cell_type": "code",
   "execution_count": 6,
   "id": "548b9040-035a-4e35-9c26-e5ba9cb3d884",
   "metadata": {},
   "outputs": [],
   "source": [
    "ArbolesMontecarlo <- function(semillas, param_basicos) {\n",
    "  # la funcion mcmapply  llama a la funcion ArbolEstimarGanancia\n",
    "  #  tantas veces como valores tenga el vector  PARAM$semillas\n",
    "  ganancias <- mcmapply(ArbolEstimarGanancia,\n",
    "    semillas, # paso el vector de semillas\n",
    "    MoreArgs = list(param_basicos), # aqui paso el segundo parametro\n",
    "    SIMPLIFY = FALSE,\n",
    "    mc.cores = 5 # en Windows este valor debe ser 1\n",
    "  )\n",
    "\n",
    "  ganancia_promedio <- mean(unlist(ganancias))\n",
    "\n",
    "  return(ganancia_promedio)\n",
    "}"
   ]
  },
  {
   "cell_type": "code",
   "execution_count": 7,
   "id": "b5336851-f113-4243-ba0d-dd259fa2d481",
   "metadata": {},
   "outputs": [],
   "source": [
    "# Aqui se debe poner la carpeta de la computadora local\n",
    "setwd(\"~/buckets/b1/\") # Establezco el Working Directory\n",
    "# cargo los datos\n",
    "\n",
    "# cargo los datos\n",
    "dataset <- fread(\"./datasets/dataset_pequeno.csv\")\n",
    "\n",
    "# trabajo solo con los datos con clase, es decir 202107\n",
    "dataset <- dataset[clase_ternaria != \"\"]\n",
    "\n",
    "# genero el archivo para Kaggle\n",
    "# creo la carpeta donde va el experimento\n",
    "# HT  representa  Hiperparameter Tuning\n",
    "dir.create(\"./exp/\", showWarnings = FALSE)\n",
    "dir.create(\"./exp/HT2020/\", showWarnings = FALSE)\n",
    "archivo_salida <- \"./exp/HT2020/gridsearch.txt\""
   ]
  },
  {
   "cell_type": "code",
   "execution_count": 8,
   "id": "d2beaf67-e959-40e7-b3e4-5dc45fd67123",
   "metadata": {},
   "outputs": [],
   "source": [
    "# Generate the data.table to store the results of the Grid Search\n",
    "tb_grid_search <- data.table(\n",
    "  max_depth = integer(),\n",
    "  min_split = integer(),\n",
    "  cp = numeric(),\n",
    "  min_bucket = numeric(),\n",
    "  ganancia_promedio = numeric()\n",
    ")\n",
    "\n",
    "# Iterate through the nested loops for each hyperparameter\n",
    "for (vmax_depth in c(17)) {\n",
    "  for (vmin_split in c(2002)) {\n",
    "    for (vcp in c(-0.99)) {\n",
    "      for (vmin_bucket in  (998) )  {\n",
    "        # Notice how parameters are set\n",
    "\n",
    "        # minsplit: minimum number of records in a node to split\n",
    "        param_basicos <- list(\n",
    "          \"cp\" = vcp,                 # minimum complexity\n",
    "          \"minsplit\" = vmin_split,\n",
    "          \"minbucket\" = vmin_bucket,  # minimum number of records in a leaf\n",
    "          \"maxdepth\" = vmax_depth    # maximum depth of the tree\n",
    "        )\n",
    "\n",
    "        # A single call, with seed 17\n",
    "        ganancia_promedio <- ArbolesMontecarlo(PARAM$semillas, param_basicos)\n",
    "\n",
    "        # Add to the table\n",
    "        tb_grid_search <- rbindlist(\n",
    "          list(tb_grid_search,\n",
    "               list(vmax_depth, vmin_split, vcp, vmin_bucket, ganancia_promedio))\n",
    "        )\n",
    "      }\n",
    "    }\n",
    "    # Write the table to disk in each iteration of the outer loop\n",
    "    Sys.sleep(2)  # Wait a couple of seconds\n",
    "    fwrite(tb_grid_search,\n",
    "           file = archivo_salida,\n",
    "           sep = \"\\t\")\n",
    "  }\n",
    "}\n"
   ]
  },
  {
   "cell_type": "code",
   "execution_count": null,
   "id": "de8dad07-ffac-4d9f-b6e5-f8cad8876735",
   "metadata": {},
   "outputs": [],
   "source": []
  }
 ],
 "metadata": {
  "kernelspec": {
   "display_name": "R",
   "language": "R",
   "name": "ir"
  },
  "language_info": {
   "codemirror_mode": "r",
   "file_extension": ".r",
   "mimetype": "text/x-r-source",
   "name": "R",
   "pygments_lexer": "r",
   "version": "4.3.3"
  }
 },
 "nbformat": 4,
 "nbformat_minor": 5
}
